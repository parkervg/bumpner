{
 "cells": [
  {
   "cell_type": "markdown",
   "id": "2ea678bf-0d35-435e-a090-8d215f73eb18",
   "metadata": {},
   "source": [
    "# 🎳 bumpner example - hierarchical entities with yaml\n",
    "\n",
    "Sometimes we have entity taxonomies that are inherently hierarchical.\n",
    "\n",
    "In these cases, we want a representation of the taxonomy that allows the model to first generate the top-level entity, and then continue to predict the child entities until we hit a 'root' entity.\n",
    "\n",
    "I like yaml for this representation, since the indendation makes it clearer which entities are nested, as opposed to something like Pydantic objects or JSON."
   ]
  },
  {
   "cell_type": "code",
   "execution_count": 1,
   "id": "b63b84d3-da8f-4060-a035-4964ddfd2fa6",
   "metadata": {
    "ExecuteTime": {
     "end_time": "2024-06-18T14:58:40.163361Z",
     "start_time": "2024-06-18T14:58:35.916168Z"
    }
   },
   "outputs": [],
   "source": [
    "import time\n",
    "import pandas as pd\n",
    "from functools import partial\n",
    "from tabulate import tabulate\n",
    "from guidance import gen\n",
    "from guidance.models import Transformers, LlamaCpp\n",
    "\n",
    "from bumpner import Bumpner\n",
    "\n",
    "tabulate = partial(\n",
    "    tabulate, headers=\"keys\", showindex=\"never\", tablefmt=\"simple_outline\"\n",
    ")"
   ]
  },
  {
   "cell_type": "markdown",
   "id": "1cf739ea-69ce-47b5-8565-754b590795af",
   "metadata": {},
   "source": [
    "## Load model & motivating example"
   ]
  },
  {
   "cell_type": "code",
   "execution_count": 2,
   "id": "72bda58e-877f-4525-a54a-cccb5417cbe3",
   "metadata": {
    "ExecuteTime": {
     "end_time": "2024-06-18T14:58:42.814749Z",
     "start_time": "2024-06-18T14:58:41.755147Z"
    }
   },
   "outputs": [
    {
     "data": {
      "text/html": [
       "<pre style='margin: 0px; padding: 0px; vertical-align: middle; padding-left: 8px; margin-left: -8px; border-radius: 0px; border-left: 1px solid rgba(127, 127, 127, 0.2); white-space: pre-wrap; font-family: ColfaxAI, Arial; font-size: 15px; line-height: 23px;'><span style='background-color: rgba(0.0, 165.0, 0, 0.15); border-radius: 3px;' title='1.0'> White</span></pre>"
      ],
      "text/plain": [
       "<IPython.core.display.HTML object>"
      ]
     },
     "metadata": {},
     "output_type": "display_data"
    }
   ],
   "source": [
    "# You can use the below model from huggingface if you don't want to download the gguf\n",
    "# model = Transformers(\n",
    "#     \"microsoft/Phi-3-mini-128k-instruct\",\n",
    "#     trust_remote_code=True,\n",
    "#     device_map='cuda'\n",
    "# )\n",
    "model = LlamaCpp(\n",
    "    'examples/Phi-3-mini-4k-instruct-q4.gguf',\n",
    "    n_gpu_layers=-1,\n",
    "    n_ctx=1028\n",
    ")\n",
    "wakeup = model + gen(\"Say hi\", max_tokens=1)\n",
    "few_shot = \"\"\"\n",
    "Input: John worked at Apple.\n",
    "Output:\n",
    "John: PERSON.GENERIC_PERSON\n",
    "worked: O\n",
    "at: O\n",
    "Apple: ORG\n",
    ".: O\n",
    "\"\"\"\n",
    "text = \"\"\"\n",
    "I work at Aperture Science with John.\n",
    "We work on the portal gun product together.\n",
    "He loves listening to elton john, drake, and lady gaga.\n",
    "His num is s23AHG.\n",
    "\"\"\""
   ]
  },
  {
   "cell_type": "markdown",
   "id": "4dec973d-91bf-4389-85f9-aa5d27001266",
   "metadata": {},
   "source": [
    "## Hierarchical Entities from YAML\n",
    "\n",
    "```yaml\n",
    "PERSON:\n",
    "  description: People, including fictional.\n",
    "  CELEBRITY:\n",
    "    description: A famous person.\n",
    "    SINGER:\n",
    "      description: A musician who is well-known as a singer, like Michael Jackson\n",
    "      rules:\n",
    "        keyword:\n",
    "            - elton john\n",
    "            - drake\n",
    "    ACTOR:\n",
    "      description: A person who is well-know for their acting in movies or TV shows.\n",
    "  GENERIC_PERSON:\n",
    "    description: A person, who we don't really recognize\n",
    "\n",
    "PRODUCT:\n",
    "  description: Products offered by a company.\n",
    "  rules:\n",
    "    keyword:\n",
    "      - conversion gel\n",
    "      - handheld portal gun\n",
    "\n",
    "ORG:\n",
    "  description: Companies, agencies, institutions, etc.\n",
    "\n",
    "IDNUMBER:\n",
    "  description: Identifier for Aperture Science employees\n",
    "  rules:\n",
    "    regex:\n",
    "      - s\\d{2}\\w{3}\n",
    "```"
   ]
  },
  {
   "cell_type": "code",
   "execution_count": 3,
   "id": "cb0c8f92-1851-42ca-8a57-203a3366813b",
   "metadata": {},
   "outputs": [
    {
     "data": {
      "text/html": [
       "<pre style='margin: 0px; padding: 0px; vertical-align: middle; padding-left: 8px; margin-left: -8px; border-radius: 0px; border-left: 1px solid rgba(127, 127, 127, 0.2); white-space: pre-wrap; font-family: ColfaxAI, Arial; font-size: 15px; line-height: 23px;'>\n",
       "Tag each word in the input with an entity type. \n",
       "If none apply, use the tag &#x27;O&#x27; to denote &quot;no entity&quot;. Most words will have this &#x27;O&#x27; label. \n",
       "\n",
       "Below is a description of each entity type.\n",
       "\n",
       "PERSON: People, including fictional.\n",
       "\n",
       "PRODUCT: Products offered by a company.\n",
       "\n",
       "ORG: Companies, agencies, institutions, etc.\n",
       "\n",
       "IDNUMBER: Identifier for Aperture Science employees\n",
       "\n",
       "---\n",
       "\n",
       "Input: John worked at Apple.\n",
       "Output:\n",
       "John: PERSON.GENERIC_PERSON\n",
       "worked: O\n",
       "at: O\n",
       "Apple: ORG\n",
       ".: O\n",
       "\n",
       "---\n",
       "Input: i work at aperture science with john . we work on the portal gun product together . he loves listening to elton john , drake , and lady gaga . his num is s23ahg .\n",
       "Output:\n",
       "i: O\n",
       "work:<span style='background-color: rgba(0.0, 165.0, 0, 0.15); border-radius: 3px;' title='1.0'> O</span>\n",
       "at: O\n",
       "aperture:<span style='background-color: rgba(0.0, 165.0, 0, 0.15); border-radius: 3px;' title='1.0'> OR</span>G\n",
       "science:<span style='background-color: rgba(0.0, 165.0, 0, 0.15); border-radius: 3px;' title='1.0'> OR</span>G\n",
       "with: O\n",
       "john:<span style='background-color: rgba(0.0, 165.0, 0, 0.15); border-radius: 3px;' title='1.0'> P</span><span style='background-color: rgba(0.0, 165.0, 0, 0.15); border-radius: 3px;' title='1.0'>ER</span>SON\n",
       "&lt;observation&gt; Now, we can choose from a sub-entity below\n",
       "CELEBRITY: A famous person.\n",
       "\n",
       "GENERIC_PERSON: A person, who we don&#x27;t really recognize\n",
       "&lt;/observation&gt;<span style='background-color: rgba(0.0, 165.0, 0, 0.15); border-radius: 3px;' title='1.0'>.</span><span style='background-color: rgba(0.0, 165.0, 0, 0.15); border-radius: 3px;' title='1.0'>G</span>ENERIC_PERSON\n",
       ".:<span style='background-color: rgba(0.0, 165.0, 0, 0.15); border-radius: 3px;' title='1.0'> O</span>\n",
       "we: O\n",
       "work:<span style='background-color: rgba(0.0, 165.0, 0, 0.15); border-radius: 3px;' title='1.0'> O</span>\n",
       "on: O\n",
       "the: O\n",
       "portal:<span style='background-color: rgba(0.0, 165.0, 0, 0.15); border-radius: 3px;' title='1.0'> O</span>\n",
       "gun:<span style='background-color: rgba(0.0, 165.0, 0, 0.15); border-radius: 3px;' title='1.0'> O</span>\n",
       "product:<span style='background-color: rgba(0.0, 165.0, 0, 0.15); border-radius: 3px;' title='1.0'> O</span>\n",
       "together:<span style='background-color: rgba(0.0, 165.0, 0, 0.15); border-radius: 3px;' title='1.0'> O</span>\n",
       ".:<span style='background-color: rgba(0.0, 165.0, 0, 0.15); border-radius: 3px;' title='1.0'> O</span>\n",
       "he: O\n",
       "loves:<span style='background-color: rgba(0.0, 165.0, 0, 0.15); border-radius: 3px;' title='1.0'> O</span>\n",
       "listening:<span style='background-color: rgba(0.0, 165.0, 0, 0.15); border-radius: 3px;' title='1.0'> O</span>\n",
       "to: O\n",
       "elton: PERSON.CELEBRITY.SINGER\n",
       "john: PERSON.CELEBRITY.SINGER\n",
       ",:<span style='background-color: rgba(0.0, 165.0, 0, 0.15); border-radius: 3px;' title='1.0'> O</span>\n",
       "drake: PERSON.CELEBRITY.SINGER\n",
       ",:<span style='background-color: rgba(0.0, 165.0, 0, 0.15); border-radius: 3px;' title='1.0'> O</span>\n",
       "and: O\n",
       "lady:<span style='background-color: rgba(0.0, 165.0, 0, 0.15); border-radius: 3px;' title='1.0'> O</span>\n",
       "gaga:<span style='background-color: rgba(0.0, 165.0, 0, 0.15); border-radius: 3px;' title='1.0'> P</span><span style='background-color: rgba(0.0, 165.0, 0, 0.15); border-radius: 3px;' title='1.0'>ER</span>SON\n",
       "&lt;observation&gt; Now, we can choose from a sub-entity below\n",
       "CELEBRITY: A famous person.\n",
       "\n",
       "GENERIC_PERSON: A person, who we don&#x27;t really recognize\n",
       "&lt;/observation&gt;<span style='background-color: rgba(0.0, 165.0, 0, 0.15); border-radius: 3px;' title='1.0'>.</span><span style='background-color: rgba(0.0, 165.0, 0, 0.15); border-radius: 3px;' title='1.0'>GEN</span>ERIC_PERSON\n",
       ".:<span style='background-color: rgba(0.0, 165.0, 0, 0.15); border-radius: 3px;' title='1.0'> O</span>\n",
       "his: O\n",
       "num:<span style='background-color: rgba(0.0, 165.0, 0, 0.15); border-radius: 3px;' title='1.0'> ID</span>NUMBER\n",
       "is: O\n",
       "s23ahg: IDNUMBER\n",
       ".:<span style='background-color: rgba(0.0, 165.0, 0, 0.15); border-radius: 3px;' title='1.0'> O</span>\n",
       "</pre>"
      ],
      "text/plain": [
       "<IPython.core.display.HTML object>"
      ]
     },
     "metadata": {},
     "output_type": "display_data"
    },
    {
     "name": "stdout",
     "output_type": "stream",
     "text": [
      "Took 0.804356575012207 seconds\n"
     ]
    }
   ],
   "source": [
    "bumpner = Bumpner(\n",
    "    model,\n",
    "    \"./entities.yaml\", \n",
    "    few_shot=few_shot\n",
    ")\n",
    "start = time.time()\n",
    "result = bumpner(text)\n",
    "print(f\"Took {time.time() - start} seconds\")\n",
    "del bumpner"
   ]
  },
  {
   "cell_type": "code",
   "execution_count": 4,
   "id": "f2f81acc-b4ae-4885-90a4-c51575e8e8a6",
   "metadata": {},
   "outputs": [
    {
     "name": "stdout",
     "output_type": "stream",
     "text": [
      "┌───────────┬─────────────────────────┐\n",
      "│ word      │ label                   │\n",
      "├───────────┼─────────────────────────┤\n",
      "│ i         │ O                       │\n",
      "│ work      │ O                       │\n",
      "│ at        │ O                       │\n",
      "│ aperture  │ ORG                     │\n",
      "│ science   │ ORG                     │\n",
      "│ with      │ O                       │\n",
      "│ john      │ PERSON.GENERIC_PERSON   │\n",
      "│ .         │ O                       │\n",
      "│ we        │ O                       │\n",
      "│ work      │ O                       │\n",
      "│ on        │ O                       │\n",
      "│ the       │ O                       │\n",
      "│ portal    │ O                       │\n",
      "│ gun       │ O                       │\n",
      "│ product   │ O                       │\n",
      "│ together  │ O                       │\n",
      "│ .         │ O                       │\n",
      "│ he        │ O                       │\n",
      "│ loves     │ O                       │\n",
      "│ listening │ O                       │\n",
      "│ to        │ O                       │\n",
      "│ elton     │ PERSON.CELEBRITY.SINGER │\n",
      "│ john      │ PERSON.CELEBRITY.SINGER │\n",
      "│ ,         │ O                       │\n",
      "│ drake     │ PERSON.CELEBRITY.SINGER │\n",
      "│ ,         │ O                       │\n",
      "│ and       │ O                       │\n",
      "│ lady      │ O                       │\n",
      "│ gaga      │ PERSON.GENERIC_PERSON   │\n",
      "│ .         │ O                       │\n",
      "│ his       │ O                       │\n",
      "│ num       │ IDNUMBER                │\n",
      "│ is        │ O                       │\n",
      "│ s23ahg    │ IDNUMBER                │\n",
      "│ .         │ O                       │\n",
      "└───────────┴─────────────────────────┘\n"
     ]
    }
   ],
   "source": [
    "print(tabulate(pd.DataFrame(result, columns=[\"word\", \"label\"])))"
   ]
  }
 ],
 "metadata": {
  "kernelspec": {
   "display_name": "Python 3 (ipykernel)",
   "language": "python",
   "name": "python3"
  },
  "language_info": {
   "codemirror_mode": {
    "name": "ipython",
    "version": 3
   },
   "file_extension": ".py",
   "mimetype": "text/x-python",
   "name": "python",
   "nbconvert_exporter": "python",
   "pygments_lexer": "ipython3",
   "version": "3.10.13"
  }
 },
 "nbformat": 4,
 "nbformat_minor": 5
}
